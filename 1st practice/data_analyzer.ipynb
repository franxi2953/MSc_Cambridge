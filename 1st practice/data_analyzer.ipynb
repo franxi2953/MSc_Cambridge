{
 "cells": [
  {
   "cell_type": "code",
   "execution_count": 3,
   "metadata": {},
   "outputs": [
    {
     "name": "stderr",
     "output_type": "stream",
     "text": [
      "c:\\Users\\USUARIO\\AppData\\Local\\Programs\\Python\\Python311\\Lib\\site-packages\\plotly\\io\\_kaleido.py:339: UserWarning:\n",
      "\n",
      "full_figure_for_development is not recommended or necessary for production use in most circumstances. \n",
      "To suppress this warning, set warn=False\n",
      "\n",
      "c:\\Users\\USUARIO\\AppData\\Local\\Programs\\Python\\Python311\\Lib\\site-packages\\plotly\\io\\_kaleido.py:339: UserWarning:\n",
      "\n",
      "full_figure_for_development is not recommended or necessary for production use in most circumstances. \n",
      "To suppress this warning, set warn=False\n",
      "\n"
     ]
    }
   ],
   "source": [
    "import helper_functions\n",
    "\n",
    "# Import data to a dataframe\n",
    "path = 'data/EMG Lab CDT'\n",
    "result_df = helper_functions.combine_csv_files_in_path(path)\n",
    "\n",
    "# To plot specific columns\n",
    "# normalized_df = helper_functions.plot_raw_and_normalized(result_df, columns_to_plot=['steph_hand_close', 'steph_hand_open', 'steph_extension_close_hand'],plot_output=True)\n",
    "normalized_df = helper_functions.plot_raw_and_normalized(result_df, plot_output=False)\n",
    "\n",
    "distribution_df=helper_functions.box_plot_dataframe(normalized_df)\n",
    "\n",
    "helper_functions.calculate_and_plot_snr(distribution_df)\n",
    "\n"
   ]
  }
 ],
 "metadata": {
  "kernelspec": {
   "display_name": "Python 3",
   "language": "python",
   "name": "python3"
  },
  "language_info": {
   "codemirror_mode": {
    "name": "ipython",
    "version": 3
   },
   "file_extension": ".py",
   "mimetype": "text/x-python",
   "name": "python",
   "nbconvert_exporter": "python",
   "pygments_lexer": "ipython3",
   "version": "3.11.5"
  }
 },
 "nbformat": 4,
 "nbformat_minor": 2
}
